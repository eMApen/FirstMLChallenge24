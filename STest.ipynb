{
 "cells": [
  {
   "metadata": {},
   "cell_type": "markdown",
   "source": [
    "# huawei cup - siamese-Triplet test\n",
    "\n",
    "使用ipynb笔记本来对python代码进行逐步调试处理/训练\n",
    "\n",
    "首先，读取数据。"
   ],
   "id": "f2e3ec2bb9768900"
  },
  {
   "metadata": {
    "ExecuteTime": {
     "end_time": "2024-07-15T09:36:17.587982Z",
     "start_time": "2024-07-15T09:36:16.290488Z"
    }
   },
   "cell_type": "code",
   "source": [
    "import logging\n",
    "import os\n",
    "\n",
    "import numpy as np\n",
    "import torch\n",
    "\n",
    "from dissimilarity import calculate_cs_dissimilarity_matrix\n",
    "import dataset"
   ],
   "id": "a14c351146d28c39",
   "outputs": [],
   "execution_count": 1
  },
  {
   "metadata": {},
   "cell_type": "markdown",
   "source": [
    "## 1. 数据读入及预处理\n",
    "使用 huawei 杯官方给的示例代码，导入数据。\n",
    "\n",
    "准备数据集，首先定义有关函数。\n",
    "\n",
    "需要注意，我们的数据集每一个对应着不同的扇区，这里先导一个，每个文件导出的时候也对应不同扇区，训练三个模型。"
   ],
   "id": "3e4af91da0127482"
  },
  {
   "metadata": {
    "ExecuteTime": {
     "end_time": "2024-07-15T09:36:25.674361Z",
     "start_time": "2024-07-15T09:36:17.588722Z"
    }
   },
   "cell_type": "code",
   "source": [
    "print(\"<<< Welcome to 2024 Wireless Algorithm Contest! >>>\\n\")\n",
    "## 不同轮次的输入数据可放在不同文件夹中便于管理，这里用户可以自定义\n",
    "PathSet = {0: \"./Test\", 1: \"./CompetitionData1\", 2: \"./CompetitionData2\", 3: \"./CompetitionData3\"}\n",
    "PrefixSet = {0: \"Round0\", 1: \"Round1\", 2: \"Round2\", 3: \"Round3\"}\n",
    "\n",
    "Ridx = 1  # 设置比赛轮次索引，指明数据存放目录。0:Test; 1: 1st round; 2: 2nd round ...\n",
    "PathRaw = PathSet[Ridx]\n",
    "Prefix = PrefixSet[Ridx]\n",
    "\n",
    "# 查找文件夹中包含的所有比赛/测试数据文件，非本轮次数据请不要放在目标文件夹中\n",
    "files = os.listdir(PathRaw)\n",
    "names = []\n",
    "\n",
    "for f in sorted(files):\n",
    "    if f.find('CfgData') != -1 and f.endswith('.txt'):\n",
    "        names.append(f.split('CfgData')[-1].split('.txt')[0])\n",
    "\n",
    "## 创建对象并处理\n",
    "## 这里我们读取 输入1\n",
    "na = str(1)\n",
    "FileIdx = int(na)\n",
    "print('Processing Round ' + str(Ridx) + ' Case ' + str(na))\n",
    "\n",
    "# 读取配置文件 RoundYCfgDataX.txt\n",
    "print('Loading configuration data file')\n",
    "cfg_path = PathRaw + '/' + Prefix + 'CfgData' + na + '.txt'\n",
    "bs_pos, tol_samp_num, anch_samp_num, port_num, ant_num, sc_num = dataset.read_cfg_file(cfg_path)\n",
    "\n",
    "# 读取锚点位置文件 RoundYInputPosX.txt\n",
    "print('Loading input position file')\n",
    "anch_pos_path = PathRaw + '/' + Prefix + 'InputPos' + na + '.txt'\n",
    "anch_pos = dataset.read_anch_file(anch_pos_path, anch_samp_num)\n",
    "\n",
    "# 读取信道文件 RoundYInputDataX.txt，这里已经读取到了.npy中，直接加载即可\n",
    "print('Loading input CSI data of ' + 'Case ' + str(na))\n",
    "csi_file = PathRaw + '/' + Prefix + 'InputData' + na + '.npy'\n",
    "H = np.load(csi_file)  # 后续可以直接load数据文件\n",
    "\n",
    "print('Loading succeed')\n"
   ],
   "id": "ee57142224d9cddd",
   "outputs": [
    {
     "name": "stdout",
     "output_type": "stream",
     "text": [
      "<<< Welcome to 2024 Wireless Algorithm Contest! >>>\n",
      "\n",
      "Processing Round 1 Case 1\n",
      "Loading configuration data file\n",
      "Loading input position file\n",
      "Loading input CSI data of Case 1\n",
      "Loading succeed\n"
     ]
    }
   ],
   "execution_count": 2
  },
  {
   "metadata": {},
   "cell_type": "markdown",
   "source": [
    "## 2. 计算距离\n",
    "\n",
    "有两个距离可供选择，一个是 *ADP距离* 一个是 *G-ADP距离*\n",
    "\n",
    "### 2.1. CS距离的计算\n",
    "CS 距离的定义如下：\n",
    "$$\n",
    "d_{\\mathrm{CS}, i, j}=\\sum_{b=1}^B \\sum_{n=1} ^{N_{sub}}\\left(1-\\frac{\\left|\\sum_{m=1}^M\\left(\\tilde{\\mathbf{H}}_{b, m, n}^{(i)}\\right)^* \\tilde{\\mathbf{H}}_{b, m, n}^{(j)}\\right|^2}{\\left(\\sum_{m=1}^M\\left|\\tilde{\\mathbf{H}}_{b, m, n}^{(i)}\\right|^2\\right)\\left(\\sum_{m=1}^M\\left|\\tilde{\\mathbf{H}}_{b, m, n}^{(j)}\\right|^2\\right)}\\right)\n",
    "$$\n",
    "其中，$N_{sub}$ 是子载波数量，$B$ 是端口数，$M$ 是 BS 的天线数量\n",
    "\n",
    "\n",
    "### 2.2 G-CS计算\n",
    "\n"
   ],
   "id": "db7ea3fd89025b16"
  },
  {
   "metadata": {
    "jupyter": {
     "is_executing": true
    },
    "ExecuteTime": {
     "start_time": "2024-07-15T09:36:25.674927Z"
    }
   },
   "cell_type": "code",
   "source": [
    "%matplotlib inline\n",
    "\n",
    "# 初始化日志记录\n",
    "logging.basicConfig(level=logging.INFO, format='%(asctime)s - %(levelname)s - %(message)s')\n",
    "logger = logging.getLogger()\n",
    "\n",
    "# 计算所有点之间的CS距离,得到tol_samp_num*tol_samp_num大小的矩阵\n",
    "\n",
    "d_cs = calculate_cs_dissimilarity_matrix(H)\n",
    "\n",
    "# 保存到文件中\n",
    "adp_file = PathRaw + '/' + Prefix + 'DCS' + na + '.npy'\n",
    "np.save(adp_file, d_cs)  # 首次读取后可存储为npy格式的数据文件\n",
    "\n",
    "logging.info(\"保存成功\")\n"
   ],
   "id": "142261c0a23d73de",
   "outputs": [
    {
     "name": "stderr",
     "output_type": "stream",
     "text": [
      "计算CS距离:   0%|          | 0/20000 [00:00<?, ?it/s]"
     ]
    }
   ],
   "execution_count": null
  },
  {
   "metadata": {
    "jupyter": {
     "is_executing": true
    }
   },
   "cell_type": "code",
   "source": "",
   "id": "cb7322c3a285931f",
   "outputs": [],
   "execution_count": null
  }
 ],
 "metadata": {
  "kernelspec": {
   "display_name": "Python 3",
   "language": "python",
   "name": "python3"
  },
  "language_info": {
   "codemirror_mode": {
    "name": "ipython",
    "version": 2
   },
   "file_extension": ".py",
   "mimetype": "text/x-python",
   "name": "python",
   "nbconvert_exporter": "python",
   "pygments_lexer": "ipython2",
   "version": "2.7.6"
  }
 },
 "nbformat": 4,
 "nbformat_minor": 5
}
