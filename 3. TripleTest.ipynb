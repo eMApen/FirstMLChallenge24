{
 "cells": [
  {
   "cell_type": "code",
   "execution_count": null,
   "id": "initial_id",
   "metadata": {
    "collapsed": true
   },
   "outputs": [],
   "source": [
    "import torch\n",
    "import numpy as np\n",
    "import cvxpy as cp\n",
    "import tritrain\n",
    "import matplotlib.pyplot as plt\n",
    "from dataset import read_all_of_huaweicup, tensor_file_name_converter\n",
    "from anchorplt import calculate_expanded_hull, plt_point_hull"
   ]
  },
  {
   "metadata": {},
   "cell_type": "code",
   "outputs": [],
   "execution_count": null,
   "source": [
    "# 假设网络给出的嵌入向量和 anch_pos 的定义已经在您的代码中\n",
    "num_points = 20000\n",
    "embedding_dim = 64\n",
    "bs_pos, tol_samp_num, anch_samp_num, port_num, ant_num, sc_num, anch_pos, H, d_geo = read_all_of_huaweicup(1, 1)\n",
    "\n",
    "H_real = H.real\n",
    "H_imag = H.imag\n",
    "H_combined = np.stack((H_real, H_imag), axis=2)\n",
    "H_combined = H_combined.reshape(tol_samp_num, 4, ant_num, sc_num)\n",
    "\n",
    "device = torch.device(\"cuda\" if torch.cuda.is_available() else \"cpu\")\n",
    "\n",
    "# 在需要使用模型的地方加载模型\n",
    "embed_net_loaded = tritrain.TripletNet().to(device)\n",
    "embed_net_loaded.load_state_dict(torch.load('./CompetitionData1/Round1NET11721287896.9979763.pth'))\n",
    "embed_net_loaded.eval()  # 切换到评估模式\n",
    "\n",
    "print(\"Model loaded from Round1NET11721287896.9979763.pth\")\n",
    "embeddings = map_embeddings(embed_net_loaded, H_combined, device)\n",
    "\n",
    "# 调用函数\n",
    "mapped_coords = map_embeddings_to_coords(embeddings, anch_pos)\n",
    "\n",
    "# 输出前五个映射结果\n",
    "print(\"Mapped Coordinates for the first 5 points:\")\n",
    "print(mapped_coords[:5])\n",
    "\n",
    "# 验证转换效果\n",
    "if mapped_coords is not None:\n",
    "    print(\"Original Known Coordinates:\")\n",
    "    print(anch_pos[:5, 1:])\n",
    "    print(\"Mapped Coordinates for Known Embeddings:\")\n",
    "    mapped_known_coords = mapped_coords[anch_pos[:5, 0].astype(int)]\n",
    "    print(mapped_known_coords[:5])\n",
    "    # 绘制结果\n",
    "    plt.figure(figsize=(10, 6))\n",
    "    plt.scatter(mapped_coords[:, 0], mapped_coords[:, 1], s=10, label='Mapped Points')\n",
    "    plt.scatter(anch_pos[:, 1], anch_pos[:, 2], s=50, label='Anchor Points', marker='x')\n",
    "    plt.xlabel('X Coordinate')\n",
    "    plt.ylabel('Y Coordinate')\n",
    "    plt.title('Mapped Coordinates vs Anchor Points')\n",
    "    plt.legend()\n",
    "    plt.grid(True)\n",
    "    plt.show()\n",
    "\n",
    "    # 计算差值\n",
    "    indices = anch_pos[:, 0].astype(int)\n",
    "    real_coords = anch_pos[:, 1:]\n",
    "    diff = mapped_coords[indices] - real_coords\n",
    "    # 计算所有锚点偏差的总和\n",
    "    total_diff_sum = np.sum(np.abs(diff))  # 可以改为 np.linalg.norm(diff) 求范数\n",
    "\n",
    "    print(\"Differences between Mapped and Real Coordinates:\",diff[:5])\n",
    "    print(\"Total deviation of anchor points:\", total_diff_sum)\n",
    "else:\n",
    "    print(\"Mapping failed.\")\n"
   ],
   "id": "88a78a6f51dd6e9a"
  }
 ],
 "metadata": {
  "kernelspec": {
   "display_name": "Python 3",
   "language": "python",
   "name": "python3"
  },
  "language_info": {
   "codemirror_mode": {
    "name": "ipython",
    "version": 2
   },
   "file_extension": ".py",
   "mimetype": "text/x-python",
   "name": "python",
   "nbconvert_exporter": "python",
   "pygments_lexer": "ipython2",
   "version": "2.7.6"
  }
 },
 "nbformat": 4,
 "nbformat_minor": 5
}
