{
 "cells": [
  {
   "metadata": {
    "ExecuteTime": {
     "end_time": "2024-07-19T08:54:40.996660Z",
     "start_time": "2024-07-19T08:54:40.811717Z"
    }
   },
   "cell_type": "markdown",
   "source": "",
   "id": "61702727ca0ad807"
  },
  {
   "metadata": {
    "ExecuteTime": {
     "end_time": "2024-07-19T15:04:04.193008Z",
     "start_time": "2024-07-19T15:03:56.194157Z"
    }
   },
   "cell_type": "code",
   "source": [
    "import numpy as np\n",
    "import logging\n",
    "\n",
    "from geodesic import compute_shortest_paths_dijkstra_cugraph, compute_shortest_paths_dijkstra,construct_knn_graph, GPU_AVAILABLE\n",
    "from dissimilarity import calculate_cs_dissimilarity_matrix\n",
    "from dataset import npy_file_name_converter, read_npy_of_file, read_all_of_huaweicup\n",
    "\n",
    "Round_idx = 1\n",
    "File_idx = 1\n",
    "bs_pos, tol_samp_num, anch_samp_num, port_num, ant_num, sc_num, anch_pos, H, d_geo = read_all_of_huaweicup(Round_idx,File_idx)\n",
    "\n",
    "# 初始化日志记录\n",
    "logging.basicConfig(level=logging.INFO, format='%(asctime)s - %(levelname)s - %(message)s')\n",
    "logger = logging.getLogger()\n"
   ],
   "id": "b09d80c7b0536557",
   "outputs": [
    {
     "name": "stdout",
     "output_type": "stream",
     "text": [
      "Processing Round 1 Case 1\n",
      "Loading configuration data file\n",
      "Loading input position file\n",
      "Loading input CSI data of Case 1\n",
      "Loading Channel CSI succeed\n",
      "Channel GEO data not exist\n"
     ]
    }
   ],
   "execution_count": 1
  },
  {
   "metadata": {},
   "cell_type": "markdown",
   "source": "",
   "id": "31ab137308336de"
  },
  {
   "metadata": {},
   "cell_type": "markdown",
   "source": "",
   "id": "8403f71b025c77ad"
  },
  {
   "cell_type": "code",
   "id": "initial_id",
   "metadata": {
    "collapsed": true,
    "ExecuteTime": {
     "end_time": "2024-07-19T15:04:20.141463Z",
     "start_time": "2024-07-19T15:04:18.938028Z"
    }
   },
   "source": [
    "\n",
    "# 计算所有点之间的CS距离,得到tol_samp_num*tol_samp_num大小的矩阵\n",
    "# 文件路径和文件名设置\n",
    "d_cs = read_npy_of_file(1, 1, 'DCS')\n",
    "\n",
    "# 检查文件是否存在\n",
    "if d_cs.any() == None : \n",
    "    # 如果文件不存在，则计算数据并保存到文件\n",
    "    adp_file = npy_file_name_converter(1,1,'DCS')\n",
    "    d_cs = calculate_cs_dissimilarity_matrix(H)\n",
    "    np.save(adp_file, d_cs)\n",
    "    print(\"计算并保存Dcs数据成功\")"
   ],
   "outputs": [
    {
     "name": "stdout",
     "output_type": "stream",
     "text": [
      "Loading ./CompetitionData1/Round1DCS1.npy\n"
     ]
    }
   ],
   "execution_count": 3
  },
  {
   "metadata": {},
   "cell_type": "markdown",
   "source": "",
   "id": "b9f15112a253d838"
  },
  {
   "metadata": {
    "ExecuteTime": {
     "end_time": "2024-07-19T15:20:51.268453Z",
     "start_time": "2024-07-19T15:04:32.508390Z"
    }
   },
   "cell_type": "code",
   "source": [
    "\n",
    "# 计算接地线距离\n",
    "# 文件路径和文件名设置\n",
    "\n",
    "if d_geo == None:\n",
    "    # 如果文件不存在，则计算数据并保存到文件\n",
    "    k = 20\n",
    "    geo_file = npy_file_name_converter(1,1,'GEO')\n",
    "    np.set_printoptions(precision=5, threshold=10, edgeitems=10, linewidth=200)\n",
    "    print(f'构建的相异度矩阵：\\n{d_cs[:10, :10]}')  # 打印前 10 行 10 列用于检查\n",
    "    \n",
    "    # 构建 k-近邻图\n",
    "    print('开始构建 k-近邻图...')\n",
    "    knn_graph_matrix = construct_knn_graph(d_cs, k)\n",
    "    \n",
    "    # 选择使用 CuGraph 或 NetworkX 计算最短路径长度矩阵 D_geo\n",
    "    if GPU_AVAILABLE:\n",
    "        print('检测到 GPU，使用 CuGraph 计算最短路径...')\n",
    "        D_geo = compute_shortest_paths_dijkstra_cugraph(knn_graph_matrix)\n",
    "    else:\n",
    "        print('未检测到 GPU，使用 NetworkX 计算最短路径...')\n",
    "        D_geo = compute_shortest_paths_dijkstra(knn_graph_matrix)\n",
    "    \n",
    "    # 保存 D_geo\n",
    "    np.save(geo_file, D_geo)\n",
    "    print('最短路径矩阵已保存。')"
   ],
   "id": "6d9159da46dd792c",
   "outputs": [
    {
     "name": "stdout",
     "output_type": "stream",
     "text": [
      "构建的相异度矩阵：\n",
      "[[0.00000e+00 8.14148e+02 8.15650e+02 8.14144e+02 8.13561e+02 8.13490e+02 6.60232e+02 8.12416e+02 7.93362e+02 6.92680e+02]\n",
      " [8.14148e+02 0.00000e+00 7.83344e+02 6.83643e+02 7.54959e+02 7.97182e+02 8.12856e+02 7.47023e+02 7.21901e+02 8.10334e+02]\n",
      " [8.15650e+02 7.83344e+02 0.00000e+00 8.04393e+02 8.05191e+02 8.13289e+02 8.15620e+02 7.97993e+02 8.08340e+02 8.13516e+02]\n",
      " [8.14144e+02 6.83643e+02 8.04393e+02 2.40803e-05 8.04874e+02 7.79598e+02 8.13763e+02 7.11377e+02 7.17783e+02 8.14272e+02]\n",
      " [8.13561e+02 7.54959e+02 8.05191e+02 8.04874e+02 0.00000e+00 7.96701e+02 8.14681e+02 7.37783e+02 7.94918e+02 8.07468e+02]\n",
      " [8.13490e+02 7.97182e+02 8.13289e+02 7.79598e+02 7.96701e+02 0.00000e+00 8.12267e+02 6.08919e+02 7.72436e+02 8.12743e+02]\n",
      " [6.60232e+02 8.12856e+02 8.15620e+02 8.13763e+02 8.14681e+02 8.12267e+02 1.00136e-05 8.11552e+02 7.83966e+02 8.15002e+02]\n",
      " [8.12416e+02 7.47023e+02 7.97993e+02 7.11377e+02 7.37783e+02 6.08919e+02 8.11552e+02 0.00000e+00 7.43889e+02 8.08204e+02]\n",
      " [7.93362e+02 7.21901e+02 8.08340e+02 7.17783e+02 7.94918e+02 7.72436e+02 7.83966e+02 7.43889e+02 1.07288e-05 8.12569e+02]\n",
      " [6.92680e+02 8.10334e+02 8.13516e+02 8.14272e+02 8.07468e+02 8.12743e+02 8.15002e+02 8.08204e+02 8.12569e+02 2.61068e-05]]\n",
      "开始构建 k-近邻图...\n"
     ]
    },
    {
     "name": "stderr",
     "output_type": "stream",
     "text": [
      "2024-07-19 23:04:40,479 - INFO - 构建的 k-近邻图，这里对k进行排序，把最小的k个邻接矩阵搬到图里，并将对角线置为0：\n",
      "[[0. 0. 0. 0. 0. 0. 0. 0. 0. 0.]\n",
      " [0. 0. 0. 0. 0. 0. 0. 0. 0. 0.]\n",
      " [0. 0. 0. 0. 0. 0. 0. 0. 0. 0.]\n",
      " [0. 0. 0. 0. 0. 0. 0. 0. 0. 0.]\n",
      " [0. 0. 0. 0. 0. 0. 0. 0. 0. 0.]\n",
      " [0. 0. 0. 0. 0. 0. 0. 0. 0. 0.]\n",
      " [0. 0. 0. 0. 0. 0. 0. 0. 0. 0.]\n",
      " [0. 0. 0. 0. 0. 0. 0. 0. 0. 0.]\n",
      " [0. 0. 0. 0. 0. 0. 0. 0. 0. 0.]\n",
      " [0. 0. 0. 0. 0. 0. 0. 0. 0. 0.]]\n"
     ]
    },
    {
     "name": "stdout",
     "output_type": "stream",
     "text": [
      "检测到 GPU，使用 CuGraph 计算最短路径...\n"
     ]
    },
    {
     "name": "stderr",
     "output_type": "stream",
     "text": [
      "/root/miniconda3/lib/python3.10/site-packages/cugraph/structure/symmetrize.py:92: FutureWarning: Multi is deprecated and the removal of multi edges will no longer be supported from 'symmetrize'. Multi edges will be removed upon creation of graph instance.\n",
      "  warnings.warn(\n",
      "2024-07-19 23:04:42,450 - INFO - 开始计算最短路径...\n",
      "计算最短路径节点数: 100%|██████████| 20000/20000 [16:07<00:00, 20.68it/s]\n",
      "2024-07-19 23:20:49,565 - INFO - 计算完成，最短路径矩阵的前 10 行 10 列：\n",
      "[[   0.      2339.73608 2482.6543  2267.93457 3154.5166  3232.72754 1131.91809 2917.39429 2323.21582 1640.31592]\n",
      " [2339.73608    0.      1570.17566  932.56323 2009.21497 1940.4447  2086.62354 1689.47888 1855.88013 1847.75598]\n",
      " [2482.6543  1570.17566    0.      1780.7356  2895.19971 2534.32251 2052.36182 2519.54907 2064.16382 2545.9104 ]\n",
      " [2267.93457  932.56329 1780.73572    0.      2158.09302 2047.27466 1926.2135  1978.38342 1944.37012 2054.6792 ]\n",
      " [3154.5166  2009.21484 2895.19995 2158.09302    0.      1590.91443 2747.76001 1689.52393 1861.57605 1865.75647]\n",
      " [3232.72754 1940.44458 2534.32251 2047.27454 1590.91443    0.      2986.68945  931.22882 1937.08276 2471.90234]\n",
      " [1131.91809 2086.62378 2052.36182 1926.21338 2747.75977 2986.68896    0.      2536.11743 2234.68579 1681.66833]\n",
      " [2917.39404 1689.47888 2519.54907 1978.38342 1689.5238   931.22882 2536.11768    0.      2059.63306 2586.13843]\n",
      " [2323.21582 1855.88013 2064.16357 1944.37024 1861.57617 1937.08276 2234.68555 2059.63306    0.      2654.30737]\n",
      " [1640.31616 1847.75598 2545.9104  2054.6792  1865.75647 2471.90234 1681.66846 2586.13818 2654.30762    0.     ]]\n"
     ]
    },
    {
     "name": "stdout",
     "output_type": "stream",
     "text": [
      "最短路径矩阵已保存。\n"
     ]
    }
   ],
   "execution_count": 4
  }
 ],
 "metadata": {
  "kernelspec": {
   "display_name": "Python 3",
   "language": "python",
   "name": "python3"
  },
  "language_info": {
   "codemirror_mode": {
    "name": "ipython",
    "version": 2
   },
   "file_extension": ".py",
   "mimetype": "text/x-python",
   "name": "python",
   "nbconvert_exporter": "python",
   "pygments_lexer": "ipython2",
   "version": "2.7.6"
  }
 },
 "nbformat": 4,
 "nbformat_minor": 5
}
