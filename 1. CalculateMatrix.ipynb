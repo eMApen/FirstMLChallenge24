{
 "cells": [
  {
   "metadata": {
    "ExecuteTime": {
     "end_time": "2024-07-19T08:54:40.996660Z",
     "start_time": "2024-07-19T08:54:40.811717Z"
    }
   },
   "cell_type": "markdown",
   "source": "",
   "id": "61702727ca0ad807"
  },
  {
   "metadata": {
    "ExecuteTime": {
     "end_time": "2024-07-20T08:56:19.249877Z",
     "start_time": "2024-07-20T08:56:14.952826Z"
    }
   },
   "cell_type": "code",
   "source": [
    "import numpy as np\n",
    "import logging\n",
    "\n",
    "from geodesic import compute_shortest_paths_dijkstra_cugraph, compute_shortest_paths_dijkstra,construct_knn_graph, GPU_AVAILABLE\n",
    "from dissimilarity import calculate_cs_dissimilarity_matrix\n",
    "from dataset import npy_file_name_converter, read_npy_of_file, read_all_of_huaweicup\n",
    "\n",
    "Round_idx = 1\n",
    "File_idx = 3\n",
    "bs_pos, tol_samp_num, anch_samp_num, port_num, ant_num, sc_num, anch_pos, H, d_geo = read_all_of_huaweicup(Round_idx,File_idx)\n",
    "# np.set_printoptions(precision=5, threshold=10, edgeitems=10, linewidth=200)\n",
    "# logging.info(f'最短路径矩阵的前 100 行 100 列：\\n{d_geo[:100, :100]}')\n",
    "# 初始化日志记录\n",
    "logging.basicConfig(level=logging.INFO, format='%(asctime)s - %(levelname)s - %(message)s')\n",
    "logger = logging.getLogger()\n"
   ],
   "id": "b09d80c7b0536557",
   "outputs": [
    {
     "name": "stdout",
     "output_type": "stream",
     "text": [
      "Processing Round 1 Case 3\n",
      "Loading configuration data file\n",
      "Loading input position file\n",
      "Loading input CSI data of Case 3\n",
      "Loading Channel CSI succeed\n",
      "Channel GEO data not exist\n"
     ]
    }
   ],
   "execution_count": 5
  },
  {
   "metadata": {},
   "cell_type": "markdown",
   "source": "",
   "id": "31ab137308336de"
  },
  {
   "metadata": {},
   "cell_type": "markdown",
   "source": "",
   "id": "8403f71b025c77ad"
  },
  {
   "cell_type": "code",
   "id": "initial_id",
   "metadata": {
    "collapsed": true,
    "ExecuteTime": {
     "end_time": "2024-07-20T09:05:37.114703Z",
     "start_time": "2024-07-20T08:56:19.251323Z"
    }
   },
   "source": [
    "\n",
    "# 计算所有点之间的CS距离,得到tol_samp_num*tol_samp_num大小的矩阵\n",
    "# 文件路径和文件名设置\n",
    "d_cs = read_npy_of_file(1, File_idx, 'DCS')\n",
    "\n",
    "# 检查文件是否存在\n",
    "if d_cs == None : \n",
    "    # 如果文件不存在，则计算数据并保存到文件\n",
    "    adp_file = npy_file_name_converter(Round_idx,File_idx,'DCS')\n",
    "    d_cs = calculate_cs_dissimilarity_matrix(H)\n",
    "    np.save(adp_file, d_cs)\n",
    "    print(\"计算并保存Dcs数据成功\")"
   ],
   "outputs": [
    {
     "name": "stderr",
     "output_type": "stream",
     "text": [
      "2024-07-20 16:56:19,307 - INFO - 开始计算CS距离\n"
     ]
    },
    {
     "name": "stdout",
     "output_type": "stream",
     "text": [
      "./CompetitionData1/Round1DCS3.npy does not exist\n",
      "使用cuda进行计算\n"
     ]
    },
    {
     "name": "stderr",
     "output_type": "stream",
     "text": [
      "计算CS距离:   0%|          | 55/20000 [00:02<09:59, 33.24it/s]  "
     ]
    },
    {
     "name": "stdout",
     "output_type": "stream",
     "text": [
      "第 5 行计算后output矩阵的状态:\n",
      "tensor([[0., 0., 0., 0.,  ..., 0., 0., 0., 0.],\n",
      "        [0., 0., 0., 0.,  ..., 0., 0., 0., 0.],\n",
      "        [0., 0., 0., 0.,  ..., 0., 0., 0., 0.],\n",
      "        [0., 0., 0., 0.,  ..., 0., 0., 0., 0.],\n",
      "        ...,\n",
      "        [0., 0., 0., 0.,  ..., 0., 0., 0., 0.],\n",
      "        [0., 0., 0., 0.,  ..., 0., 0., 0., 0.],\n",
      "        [0., 0., 0., 0.,  ..., 0., 0., 0., 0.],\n",
      "        [0., 0., 0., 0.,  ..., 0., 0., 0., 0.]], device='cuda:0')\n"
     ]
    },
    {
     "name": "stderr",
     "output_type": "stream",
     "text": [
      "计算CS距离: 100%|██████████| 20000/20000 [09:15<00:00, 36.02it/s]  \n",
      "2024-07-20 17:05:35,765 - INFO - CS距离计算完毕，共计算了 400000000 对点之间的距离。\n"
     ]
    },
    {
     "name": "stdout",
     "output_type": "stream",
     "text": [
      "计算并保存Dcs数据成功\n"
     ]
    }
   ],
   "execution_count": 6
  },
  {
   "metadata": {},
   "cell_type": "markdown",
   "source": "",
   "id": "b9f15112a253d838"
  },
  {
   "metadata": {
    "ExecuteTime": {
     "end_time": "2024-07-20T09:15:11.933925Z",
     "start_time": "2024-07-20T09:05:37.116017Z"
    }
   },
   "cell_type": "code",
   "source": [
    "\n",
    "# 计算接地线距离\n",
    "# 文件路径和文件名设置\n",
    "\n",
    "if d_geo == None:\n",
    "    # 如果文件不存在，则计算数据并保存到文件\n",
    "    k = 20\n",
    "    geo_file = npy_file_name_converter(Round_idx,File_idx,'GEO')\n",
    "    np.set_printoptions(precision=5, threshold=10, edgeitems=10, linewidth=200)\n",
    "    print(f'构建的相异度矩阵：\\n{d_cs[:10, :10]}')  # 打印前 10 行 10 列用于检查\n",
    "    \n",
    "    # 构建 k-近邻图\n",
    "    print('开始构建 k-近邻图...')\n",
    "    knn_graph_matrix = construct_knn_graph(d_cs, k)\n",
    "    \n",
    "    # 选择使用 CuGraph 或 NetworkX 计算最短路径长度矩阵 D_geo\n",
    "    if GPU_AVAILABLE:\n",
    "        print('检测到 GPU，使用 CuGraph 计算最短路径...')\n",
    "        D_geo = compute_shortest_paths_dijkstra_cugraph(knn_graph_matrix)\n",
    "    else:\n",
    "        print('未检测到 GPU，使用 NetworkX 计算最短路径...')\n",
    "        D_geo = compute_shortest_paths_dijkstra(knn_graph_matrix)\n",
    "    \n",
    "    # 保存 D_geo\n",
    "    np.save(geo_file, D_geo)\n",
    "    print('最短路径矩阵已保存。')"
   ],
   "id": "6d9159da46dd792c",
   "outputs": [
    {
     "name": "stdout",
     "output_type": "stream",
     "text": [
      "构建的相异度矩阵：\n",
      "[[1.08480e-05 8.08527e+02 8.10314e+02 8.11474e+02 8.15527e+02 6.33928e+02 8.15611e+02 8.13707e+02 8.15638e+02 8.14717e+02]\n",
      " [8.08527e+02 2.40803e-05 8.15691e+02 8.10610e+02 8.15381e+02 8.13366e+02 8.15723e+02 8.15929e+02 8.01281e+02 8.14880e+02]\n",
      " [8.10314e+02 8.15691e+02 1.01328e-05 6.12125e+02 8.15974e+02 8.11536e+02 8.15970e+02 8.15341e+02 8.15677e+02 8.15992e+02]\n",
      " [8.11474e+02 8.10610e+02 6.12125e+02 1.53780e-05 8.15972e+02 8.05992e+02 8.15934e+02 8.09195e+02 8.15931e+02 8.15934e+02]\n",
      " [8.15527e+02 8.15381e+02 8.15974e+02 8.15972e+02 1.19209e-06 8.15951e+02 8.15959e+02 8.15952e+02 8.14200e+02 7.94190e+02]\n",
      " [6.33928e+02 8.13366e+02 8.11536e+02 8.05992e+02 8.15951e+02 5.84126e-06 8.15619e+02 8.15976e+02 8.15246e+02 8.15677e+02]\n",
      " [8.15611e+02 8.15723e+02 8.15970e+02 8.15934e+02 8.15959e+02 8.15619e+02 3.93391e-06 8.15871e+02 6.42976e+02 8.15959e+02]\n",
      " [8.13707e+02 8.15929e+02 8.15341e+02 8.09195e+02 8.15952e+02 8.15976e+02 8.15871e+02 6.19888e-06 8.15871e+02 8.15418e+02]\n",
      " [8.15638e+02 8.01281e+02 8.15677e+02 8.15931e+02 8.14200e+02 8.15246e+02 6.42976e+02 8.15871e+02 5.24521e-06 8.14506e+02]\n",
      " [8.14717e+02 8.14880e+02 8.15992e+02 8.15934e+02 7.94190e+02 8.15677e+02 8.15959e+02 8.15418e+02 8.14506e+02 0.00000e+00]]\n",
      "开始构建 k-近邻图...\n"
     ]
    },
    {
     "name": "stderr",
     "output_type": "stream",
     "text": [
      "2024-07-20 17:05:44,713 - INFO - 构建的 k-近邻图，这里对k进行排序，把最小的k个邻接矩阵搬到图里，并将对角线置为0：\n",
      "[[0. 0. 0. 0. 0. 0. 0. 0. 0. 0.]\n",
      " [0. 0. 0. 0. 0. 0. 0. 0. 0. 0.]\n",
      " [0. 0. 0. 0. 0. 0. 0. 0. 0. 0.]\n",
      " [0. 0. 0. 0. 0. 0. 0. 0. 0. 0.]\n",
      " [0. 0. 0. 0. 0. 0. 0. 0. 0. 0.]\n",
      " [0. 0. 0. 0. 0. 0. 0. 0. 0. 0.]\n",
      " [0. 0. 0. 0. 0. 0. 0. 0. 0. 0.]\n",
      " [0. 0. 0. 0. 0. 0. 0. 0. 0. 0.]\n",
      " [0. 0. 0. 0. 0. 0. 0. 0. 0. 0.]\n",
      " [0. 0. 0. 0. 0. 0. 0. 0. 0. 0.]]\n"
     ]
    },
    {
     "name": "stdout",
     "output_type": "stream",
     "text": [
      "检测到 GPU，使用 CuGraph 计算最短路径...\n"
     ]
    },
    {
     "name": "stderr",
     "output_type": "stream",
     "text": [
      "/root/miniconda3/lib/python3.10/site-packages/cugraph/structure/symmetrize.py:92: FutureWarning: Multi is deprecated and the removal of multi edges will no longer be supported from 'symmetrize'. Multi edges will be removed upon creation of graph instance.\n",
      "  warnings.warn(\n",
      "2024-07-20 17:05:46,417 - INFO - 开始计算最短路径...\n",
      "计算最短路径节点数: 100%|██████████| 20000/20000 [09:23<00:00, 35.47it/s]\n",
      "2024-07-20 17:15:10,336 - INFO - 计算完成，最短路径矩阵的前 10 行 10 列：\n",
      "[[   0.      1340.87317 2298.31738 1864.95886 1723.66089  577.99213 2917.73022 1861.32861 2707.09888 1359.91138]\n",
      " [1340.87317    0.      2219.63257 2045.40125 1618.8269  1826.88208 2323.354   2257.46094 2119.87598 1984.53796]\n",
      " [2298.31763 2219.63257    0.       475.68597 1904.84729 1835.60413 2444.16357 1377.10754 2509.55127 2437.45752]\n",
      " [1864.95886 2045.40125  475.68597    0.      1909.62988 1402.24524 2710.16309  993.60449 2455.26074 2241.99463]\n",
      " [1723.66089 1618.8269  1904.84729 1909.62988    0.      1675.47363 2487.43945 2197.2627  2014.76807  999.03265]\n",
      " [ 577.99213 1826.8822  1835.604   1402.24536 1675.47363    0.      2928.41553 1473.8916  2723.85107 1722.47144]\n",
      " [2917.73022 2323.354   2444.16333 2710.16284 2487.43945 2928.41553    0.      2936.03711 1395.46924 2554.54053]\n",
      " [1861.32849 2257.46094 1377.10767  993.60449 2197.26245 1473.89172 2936.03687    0.      2919.39185 2124.52661]\n",
      " [2707.09888 2119.87598 2509.55127 2455.26099 2014.76794 2723.85107 1395.46924 2919.39209    0.      2504.57886]\n",
      " [1359.91138 1984.53796 2437.45752 2241.99487  999.03265 1722.47168 2554.54028 2124.52661 2504.57886    0.     ]]\n"
     ]
    },
    {
     "name": "stdout",
     "output_type": "stream",
     "text": [
      "最短路径矩阵已保存。\n"
     ]
    }
   ],
   "execution_count": 7
  }
 ],
 "metadata": {
  "kernelspec": {
   "display_name": "Python 3",
   "language": "python",
   "name": "python3"
  },
  "language_info": {
   "codemirror_mode": {
    "name": "ipython",
    "version": 2
   },
   "file_extension": ".py",
   "mimetype": "text/x-python",
   "name": "python",
   "nbconvert_exporter": "python",
   "pygments_lexer": "ipython2",
   "version": "2.7.6"
  }
 },
 "nbformat": 4,
 "nbformat_minor": 5
}
