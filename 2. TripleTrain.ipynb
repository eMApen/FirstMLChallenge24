{
 "cells": [
  {
   "metadata": {},
   "cell_type": "markdown",
   "source": [
    "# Triplet Train\n",
    "\n",
    "使用ipynb笔记本来对python代码进行逐步调试处理/训练\n",
    "\n",
    "首先，读取数据。"
   ],
   "id": "f2e3ec2bb9768900"
  },
  {
   "metadata": {
    "ExecuteTime": {
     "end_time": "2024-07-20T12:22:52.465247Z",
     "start_time": "2024-07-20T12:22:52.461652Z"
    }
   },
   "cell_type": "code",
   "source": [
    "import logging\n",
    "import torch\n",
    "import numpy as np\n",
    "import tritrain\n",
    "import dataset\n",
    "import torch.optim as optim\n",
    "\n",
    "from dissimilarity import calculate_cs_dissimilarity_matrix\n",
    "from dataset import read_all_of_huaweicup,read_npy_of_file,npy_file_name_converter\n",
    "\n",
    "from geodesic import construct_knn_graph,compute_shortest_paths_dijkstra,compute_shortest_paths_dijkstra_cugraph\n",
    "\n",
    "# 尝试导入 cugraph 和 cudf，如果失败则使用 networkx\n",
    "try:\n",
    "    import cudf\n",
    "    import cugraph\n",
    "    GPU_AVAILABLE = True\n",
    "except ImportError:\n",
    "    GPU_AVAILABLE = False"
   ],
   "id": "a14c351146d28c39",
   "outputs": [],
   "execution_count": 4
  },
  {
   "metadata": {},
   "cell_type": "markdown",
   "source": [
    "## 2. 数据读入及预处理\n",
    "使用 huawei 杯官方给的示例代码，导入数据。\n",
    "\n",
    "准备数据集，首先定义有关函数。\n",
    "\n",
    "需要注意，我们的数据集每一个对应着不同的扇区，这里先导一个，每个文件导出的时候也对应不同扇区，训练三个模型。"
   ],
   "id": "3e4af91da0127482"
  },
  {
   "metadata": {
    "ExecuteTime": {
     "end_time": "2024-07-20T12:22:58.035312Z",
     "start_time": "2024-07-20T12:22:52.484877Z"
    }
   },
   "cell_type": "code",
   "source": [
    "print(\"<<< Welcome to 2024 Wireless Algorithm Contest! >>>\\n\")\n",
    "device = torch.device(\"cuda\" if torch.cuda.is_available() else \"cpu\")\n",
    "Round_idx = 1\n",
    "File_idx = 3\n",
    "bs_pos, tol_samp_num, anch_samp_num, port_num, ant_num, sc_num, anch_pos, H, d_cs, d_geo = read_all_of_huaweicup(Round_idx,File_idx)\n",
    "\n",
    "# 初始化日志记录\n",
    "logging.basicConfig(level=logging.INFO, format='%(asctime)s - %(levelname)s - %(message)s')\n",
    "logger = logging.getLogger()\n"
   ],
   "id": "ee57142224d9cddd",
   "outputs": [
    {
     "name": "stdout",
     "output_type": "stream",
     "text": [
      "<<< Welcome to 2024 Wireless Algorithm Contest! >>>\n",
      "\n",
      "Processing Round 1 Case 3\n",
      "Loading configuration data file\n",
      "Loading input position file\n",
      "Loading input CSI data of Case 3\n",
      "Loading Channel CSI succeed\n",
      "Loading DCS data succeed\n",
      "Loading GEO data succeed\n"
     ]
    }
   ],
   "execution_count": 5
  },
  {
   "metadata": {},
   "cell_type": "markdown",
   "source": [
    "## 3.网络训练\n",
    "\n",
    "Triplet Neural Networks\n",
    "\n",
    "![Triplet Neural Networks](/home/xmax/Desktop/huaweicup/pic/img.png)\n",
    "\n",
    "### 3.1 Triplet Selection\n",
    "\n",
    "输入为Dgeo矩阵，为两个采样点之间的接地线距离，输出为 f(i) , f(j) , f(k) ，其中 i 为2000个锚点， j 为反例，距离 i 很远的例子， k 为正例距离 i 很近的例子。\n",
    "有一个参数Q，用来衡量近的点有多近，远的点有多远，是一个可调参数。\n",
    "论文中，Q=0.02-0.2，此处为可调参数。\n",
    "\n",
    "### 3.2 Embedded 网络\n",
    "\n",
    "\n",
    "### 3.3 Triplet Loss\n"
   ],
   "id": "6958472aae6e108b"
  },
  {
   "metadata": {
    "ExecuteTime": {
     "end_time": "2024-07-20T13:21:59.896757Z",
     "start_time": "2024-07-20T12:22:58.036648Z"
    }
   },
   "cell_type": "code",
   "source": [
    "# 创建模型\n",
    "embed_net = tritrain.TripletNet().to(device)\n",
    "print(\"Selected device \" + str(device))\n",
    "# 初始化损失函数，给入参数 margin\n",
    "margin = 1.0\n",
    "criterion = tritrain.TripletLoss(margin).to(device)\n",
    "\n",
    "H_real = H.real\n",
    "H_imag = H.imag\n",
    "H_combined = np.stack((H_real, H_imag), axis=2)\n",
    "H_combined = H_combined.reshape(tol_samp_num, 4, ant_num, sc_num)\n",
    "\n",
    "optimizer = optim.Adam(embed_net.parameters(), lr=0.001, weight_decay=1e-5)\n",
    "scheduler = optim.lr_scheduler.StepLR(optimizer, step_size=10, gamma=0.5)\n",
    "\n",
    "# 训练网络\n",
    "tritrain.train_triplet_network(embed_net, criterion, optimizer, scheduler , H_combined, d_cs, anch_pos, init_q=0.2)\n",
    "\n",
    "# 保存网络实例\n",
    "torch_net_file = dataset.tensor_file_name_converter(1,1)\n",
    "torch.save(embed_net.state_dict(), torch_net_file)\n",
    "print(\"Model saved as \"+ torch_net_file)\n"
   ],
   "id": "f858858d634e4879",
   "outputs": [
    {
     "name": "stdout",
     "output_type": "stream",
     "text": [
      "Selected device cuda\n",
      "使用cuda进行计算\n"
     ]
    },
    {
     "name": "stderr",
     "output_type": "stream",
     "text": [
      "Epoch 1/20:  16%|█▌        | 1009/6250 [00:22<01:54, 45.81it/s]"
     ]
    },
    {
     "name": "stdout",
     "output_type": "stream",
     "text": [
      "Epoch [1/20], Batch [1000], Q: 0.2000, Loss: 9.9535\n"
     ]
    },
    {
     "name": "stderr",
     "output_type": "stream",
     "text": [
      "Epoch 1/20:  32%|███▏      | 2009/6250 [00:44<01:32, 45.80it/s]"
     ]
    },
    {
     "name": "stdout",
     "output_type": "stream",
     "text": [
      "Epoch [1/20], Batch [2000], Q: 0.2000, Loss: 9.8830\n"
     ]
    },
    {
     "name": "stderr",
     "output_type": "stream",
     "text": [
      "Epoch 1/20:  48%|████▊     | 3009/6250 [01:06<01:11, 45.32it/s]"
     ]
    },
    {
     "name": "stdout",
     "output_type": "stream",
     "text": [
      "Epoch [1/20], Batch [3000], Q: 0.2000, Loss: 9.8337\n"
     ]
    },
    {
     "name": "stderr",
     "output_type": "stream",
     "text": [
      "Epoch 1/20:  64%|██████▍   | 4009/6250 [01:28<00:48, 45.88it/s]"
     ]
    },
    {
     "name": "stdout",
     "output_type": "stream",
     "text": [
      "Epoch [1/20], Batch [4000], Q: 0.2000, Loss: 9.8970\n"
     ]
    },
    {
     "name": "stderr",
     "output_type": "stream",
     "text": [
      "Epoch 1/20:  80%|████████  | 5009/6250 [01:50<00:27, 45.73it/s]"
     ]
    },
    {
     "name": "stdout",
     "output_type": "stream",
     "text": [
      "Epoch [1/20], Batch [5000], Q: 0.2000, Loss: 9.8287\n"
     ]
    },
    {
     "name": "stderr",
     "output_type": "stream",
     "text": [
      "Epoch 1/20:  96%|█████████▌| 6004/6250 [02:12<00:05, 44.01it/s]"
     ]
    },
    {
     "name": "stdout",
     "output_type": "stream",
     "text": [
      "Epoch [1/20], Batch [6000], Q: 0.2000, Loss: 9.7670\n"
     ]
    },
    {
     "name": "stderr",
     "output_type": "stream",
     "text": [
      "                                                               \r"
     ]
    },
    {
     "name": "stdout",
     "output_type": "stream",
     "text": [
      "Epoch [1/20] Completed, Learning Rate: 0.001000\n"
     ]
    },
    {
     "name": "stderr",
     "output_type": "stream",
     "text": [
      "Epoch 2/20:  20%|██        | 1004/5000 [00:24<01:35, 41.67it/s]"
     ]
    },
    {
     "name": "stdout",
     "output_type": "stream",
     "text": [
      "Epoch [2/20], Batch [1000], Q: 0.1910, Loss: 9.6871\n"
     ]
    },
    {
     "name": "stderr",
     "output_type": "stream",
     "text": [
      "Epoch 2/20:  40%|████      | 2004/5000 [01:04<01:14, 39.98it/s]"
     ]
    },
    {
     "name": "stdout",
     "output_type": "stream",
     "text": [
      "Epoch [2/20], Batch [2000], Q: 0.1910, Loss: 9.6795\n"
     ]
    },
    {
     "name": "stderr",
     "output_type": "stream",
     "text": [
      "Epoch 2/20:  60%|██████    | 3004/5000 [01:28<00:47, 41.68it/s]"
     ]
    },
    {
     "name": "stdout",
     "output_type": "stream",
     "text": [
      "Epoch [2/20], Batch [3000], Q: 0.1910, Loss: 9.6765\n"
     ]
    },
    {
     "name": "stderr",
     "output_type": "stream",
     "text": [
      "Epoch 2/20:  80%|████████  | 4004/5000 [01:52<00:24, 40.11it/s]"
     ]
    },
    {
     "name": "stdout",
     "output_type": "stream",
     "text": [
      "Epoch [2/20], Batch [4000], Q: 0.1910, Loss: 9.8155\n"
     ]
    },
    {
     "name": "stderr",
     "output_type": "stream",
     "text": [
      "                                                               \r"
     ]
    },
    {
     "name": "stdout",
     "output_type": "stream",
     "text": [
      "Epoch [2/20], Batch [5000], Q: 0.1910, Loss: 9.6562\n",
      "Epoch [2/20] Completed, Learning Rate: 0.001000\n"
     ]
    },
    {
     "name": "stderr",
     "output_type": "stream",
     "text": [
      "Epoch 3/20:  24%|██▍       | 1007/4167 [00:25<01:18, 40.22it/s]"
     ]
    },
    {
     "name": "stdout",
     "output_type": "stream",
     "text": [
      "Epoch [3/20], Batch [1000], Q: 0.1820, Loss: 9.5677\n"
     ]
    },
    {
     "name": "stderr",
     "output_type": "stream",
     "text": [
      "Epoch 3/20:  48%|████▊     | 2005/4167 [00:50<00:53, 40.08it/s]"
     ]
    },
    {
     "name": "stdout",
     "output_type": "stream",
     "text": [
      "Epoch [3/20], Batch [2000], Q: 0.1820, Loss: 9.4576\n"
     ]
    },
    {
     "name": "stderr",
     "output_type": "stream",
     "text": [
      "Epoch 3/20:  72%|███████▏  | 3006/4167 [01:15<00:28, 40.24it/s]"
     ]
    },
    {
     "name": "stdout",
     "output_type": "stream",
     "text": [
      "Epoch [3/20], Batch [3000], Q: 0.1820, Loss: 9.3357\n"
     ]
    },
    {
     "name": "stderr",
     "output_type": "stream",
     "text": [
      "Epoch 3/20:  96%|█████████▌| 4004/4167 [01:39<00:04, 40.19it/s]"
     ]
    },
    {
     "name": "stdout",
     "output_type": "stream",
     "text": [
      "Epoch [3/20], Batch [4000], Q: 0.1820, Loss: 9.5356\n"
     ]
    },
    {
     "name": "stderr",
     "output_type": "stream",
     "text": [
      "                                                               \r"
     ]
    },
    {
     "name": "stdout",
     "output_type": "stream",
     "text": [
      "Epoch [3/20] Completed, Learning Rate: 0.001000\n"
     ]
    },
    {
     "name": "stderr",
     "output_type": "stream",
     "text": [
      "Epoch 4/20:  28%|██▊       | 1004/3572 [00:25<01:05, 39.17it/s]"
     ]
    },
    {
     "name": "stdout",
     "output_type": "stream",
     "text": [
      "Epoch [4/20], Batch [1000], Q: 0.1730, Loss: 9.3820\n"
     ]
    },
    {
     "name": "stderr",
     "output_type": "stream",
     "text": [
      "Epoch 4/20:  56%|█████▌    | 2001/3572 [01:02<03:13,  8.11it/s]"
     ]
    },
    {
     "name": "stdout",
     "output_type": "stream",
     "text": [
      "Epoch [4/20], Batch [2000], Q: 0.1730, Loss: 9.2649\n"
     ]
    },
    {
     "name": "stderr",
     "output_type": "stream",
     "text": [
      "Epoch 4/20:  84%|████████▍ | 3001/3572 [01:40<01:27,  6.52it/s]"
     ]
    },
    {
     "name": "stdout",
     "output_type": "stream",
     "text": [
      "Epoch [4/20], Batch [3000], Q: 0.1730, Loss: 9.1111\n"
     ]
    },
    {
     "name": "stderr",
     "output_type": "stream",
     "text": [
      "                                                               \r"
     ]
    },
    {
     "name": "stdout",
     "output_type": "stream",
     "text": [
      "Epoch [4/20] Completed, Learning Rate: 0.001000\n"
     ]
    },
    {
     "name": "stderr",
     "output_type": "stream",
     "text": [
      "Epoch 5/20:  32%|███▏      | 1003/3125 [00:26<00:56, 37.71it/s]"
     ]
    },
    {
     "name": "stdout",
     "output_type": "stream",
     "text": [
      "Epoch [5/20], Batch [1000], Q: 0.1640, Loss: 8.7771\n"
     ]
    },
    {
     "name": "stderr",
     "output_type": "stream",
     "text": [
      "Epoch 5/20:  64%|██████▍   | 2007/3125 [00:53<00:31, 34.97it/s]"
     ]
    },
    {
     "name": "stdout",
     "output_type": "stream",
     "text": [
      "Epoch [5/20], Batch [2000], Q: 0.1640, Loss: 8.8208\n"
     ]
    },
    {
     "name": "stderr",
     "output_type": "stream",
     "text": [
      "Epoch 5/20:  96%|█████████▌| 3007/3125 [01:21<00:03, 37.32it/s]"
     ]
    },
    {
     "name": "stdout",
     "output_type": "stream",
     "text": [
      "Epoch [5/20], Batch [3000], Q: 0.1640, Loss: 9.1140\n"
     ]
    },
    {
     "name": "stderr",
     "output_type": "stream",
     "text": [
      "                                                               \r"
     ]
    },
    {
     "name": "stdout",
     "output_type": "stream",
     "text": [
      "Epoch [5/20] Completed, Learning Rate: 0.001000\n"
     ]
    },
    {
     "name": "stderr",
     "output_type": "stream",
     "text": [
      "Epoch 6/20:  36%|███▌      | 1001/2778 [00:55<05:47,  5.11it/s]"
     ]
    },
    {
     "name": "stdout",
     "output_type": "stream",
     "text": [
      "Epoch [6/20], Batch [1000], Q: 0.1550, Loss: 8.7881\n"
     ]
    },
    {
     "name": "stderr",
     "output_type": "stream",
     "text": [
      "Epoch 6/20:  72%|███████▏  | 2000/2778 [04:10<02:35,  4.99it/s]"
     ]
    },
    {
     "name": "stdout",
     "output_type": "stream",
     "text": [
      "Epoch [6/20], Batch [2000], Q: 0.1550, Loss: 8.6422\n"
     ]
    },
    {
     "name": "stderr",
     "output_type": "stream",
     "text": [
      "                                                               \r"
     ]
    },
    {
     "name": "stdout",
     "output_type": "stream",
     "text": [
      "Epoch [6/20] Completed, Learning Rate: 0.001000\n"
     ]
    },
    {
     "name": "stderr",
     "output_type": "stream",
     "text": [
      "Epoch 7/20:  40%|████      | 1000/2500 [01:23<05:16,  4.75it/s]"
     ]
    },
    {
     "name": "stdout",
     "output_type": "stream",
     "text": [
      "Epoch [7/20], Batch [1000], Q: 0.1460, Loss: 8.7650\n"
     ]
    },
    {
     "name": "stderr",
     "output_type": "stream",
     "text": [
      "Epoch 7/20:  80%|████████  | 2005/2500 [03:24<00:15, 31.88it/s]"
     ]
    },
    {
     "name": "stdout",
     "output_type": "stream",
     "text": [
      "Epoch [7/20], Batch [2000], Q: 0.1460, Loss: 8.5361\n"
     ]
    },
    {
     "name": "stderr",
     "output_type": "stream",
     "text": [
      "                                                               \r"
     ]
    },
    {
     "name": "stdout",
     "output_type": "stream",
     "text": [
      "Epoch [7/20] Completed, Learning Rate: 0.001000\n"
     ]
    },
    {
     "name": "stderr",
     "output_type": "stream",
     "text": [
      "Epoch 8/20:  44%|████▍     | 1003/2273 [00:31<00:39, 32.43it/s]"
     ]
    },
    {
     "name": "stdout",
     "output_type": "stream",
     "text": [
      "Epoch [8/20], Batch [1000], Q: 0.1370, Loss: 8.2228\n"
     ]
    },
    {
     "name": "stderr",
     "output_type": "stream",
     "text": [
      "Epoch 8/20:  88%|████████▊ | 2005/2273 [01:02<00:08, 32.37it/s]"
     ]
    },
    {
     "name": "stdout",
     "output_type": "stream",
     "text": [
      "Epoch [8/20], Batch [2000], Q: 0.1370, Loss: 8.3787\n"
     ]
    },
    {
     "name": "stderr",
     "output_type": "stream",
     "text": [
      "                                                               \r"
     ]
    },
    {
     "name": "stdout",
     "output_type": "stream",
     "text": [
      "Epoch [8/20] Completed, Learning Rate: 0.001000\n"
     ]
    },
    {
     "name": "stderr",
     "output_type": "stream",
     "text": [
      "Epoch 9/20:  48%|████▊     | 1003/2084 [00:32<00:34, 31.40it/s]"
     ]
    },
    {
     "name": "stdout",
     "output_type": "stream",
     "text": [
      "Epoch [9/20], Batch [1000], Q: 0.1280, Loss: 8.3121\n"
     ]
    },
    {
     "name": "stderr",
     "output_type": "stream",
     "text": [
      "Epoch 9/20:  96%|█████████▌| 2003/2084 [01:04<00:02, 31.35it/s]"
     ]
    },
    {
     "name": "stdout",
     "output_type": "stream",
     "text": [
      "Epoch [9/20], Batch [2000], Q: 0.1280, Loss: 8.3118\n"
     ]
    },
    {
     "name": "stderr",
     "output_type": "stream",
     "text": [
      "                                                               \r"
     ]
    },
    {
     "name": "stdout",
     "output_type": "stream",
     "text": [
      "Epoch [9/20] Completed, Learning Rate: 0.001000\n"
     ]
    },
    {
     "name": "stderr",
     "output_type": "stream",
     "text": [
      "Epoch 10/20:  52%|█████▏    | 1005/1924 [00:33<00:31, 29.64it/s]"
     ]
    },
    {
     "name": "stdout",
     "output_type": "stream",
     "text": [
      "Epoch [10/20], Batch [1000], Q: 0.1190, Loss: 8.0883\n"
     ]
    },
    {
     "name": "stderr",
     "output_type": "stream",
     "text": [
      "                                                                \r"
     ]
    },
    {
     "name": "stdout",
     "output_type": "stream",
     "text": [
      "Epoch [10/20] Completed, Learning Rate: 0.000500\n"
     ]
    },
    {
     "name": "stderr",
     "output_type": "stream",
     "text": [
      "Epoch 11/20:  56%|█████▋    | 1005/1786 [00:34<00:26, 29.43it/s]"
     ]
    },
    {
     "name": "stdout",
     "output_type": "stream",
     "text": [
      "Epoch [11/20], Batch [1000], Q: 0.1100, Loss: 7.9299\n"
     ]
    },
    {
     "name": "stderr",
     "output_type": "stream",
     "text": [
      "                                                                \r"
     ]
    },
    {
     "name": "stdout",
     "output_type": "stream",
     "text": [
      "Epoch [11/20] Completed, Learning Rate: 0.000500\n"
     ]
    },
    {
     "name": "stderr",
     "output_type": "stream",
     "text": [
      "Epoch 12/20:  60%|██████    | 1005/1667 [00:35<00:22, 28.87it/s]"
     ]
    },
    {
     "name": "stdout",
     "output_type": "stream",
     "text": [
      "Epoch [12/20], Batch [1000], Q: 0.1010, Loss: 7.1986\n"
     ]
    },
    {
     "name": "stderr",
     "output_type": "stream",
     "text": [
      "                                                                \r"
     ]
    },
    {
     "name": "stdout",
     "output_type": "stream",
     "text": [
      "Epoch [12/20] Completed, Learning Rate: 0.000500\n"
     ]
    },
    {
     "name": "stderr",
     "output_type": "stream",
     "text": [
      "Epoch 13/20:  64%|██████▍   | 1005/1563 [00:36<00:19, 28.09it/s]"
     ]
    },
    {
     "name": "stdout",
     "output_type": "stream",
     "text": [
      "Epoch [13/20], Batch [1000], Q: 0.0920, Loss: 6.9668\n"
     ]
    },
    {
     "name": "stderr",
     "output_type": "stream",
     "text": [
      "                                                                \r"
     ]
    },
    {
     "name": "stdout",
     "output_type": "stream",
     "text": [
      "Epoch [13/20] Completed, Learning Rate: 0.000500\n"
     ]
    },
    {
     "name": "stderr",
     "output_type": "stream",
     "text": [
      "Epoch 14/20:  64%|██████▍   | 1002/1563 [00:35<00:19, 28.15it/s]"
     ]
    },
    {
     "name": "stdout",
     "output_type": "stream",
     "text": [
      "Epoch [14/20], Batch [1000], Q: 0.0830, Loss: 7.0827\n"
     ]
    },
    {
     "name": "stderr",
     "output_type": "stream",
     "text": [
      "                                                                \r"
     ]
    },
    {
     "name": "stdout",
     "output_type": "stream",
     "text": [
      "Epoch [14/20] Completed, Learning Rate: 0.000500\n"
     ]
    },
    {
     "name": "stderr",
     "output_type": "stream",
     "text": [
      "Epoch 15/20:  64%|██████▍   | 1005/1563 [00:35<00:19, 27.96it/s]"
     ]
    },
    {
     "name": "stdout",
     "output_type": "stream",
     "text": [
      "Epoch [15/20], Batch [1000], Q: 0.0740, Loss: 6.3374\n"
     ]
    },
    {
     "name": "stderr",
     "output_type": "stream",
     "text": [
      "                                                                \r"
     ]
    },
    {
     "name": "stdout",
     "output_type": "stream",
     "text": [
      "Epoch [15/20] Completed, Learning Rate: 0.000500\n"
     ]
    },
    {
     "name": "stderr",
     "output_type": "stream",
     "text": [
      "Epoch 16/20:  64%|██████▍   | 1005/1563 [00:35<00:19, 27.91it/s]"
     ]
    },
    {
     "name": "stdout",
     "output_type": "stream",
     "text": [
      "Epoch [16/20], Batch [1000], Q: 0.0650, Loss: 6.1114\n"
     ]
    },
    {
     "name": "stderr",
     "output_type": "stream",
     "text": [
      "                                                                \r"
     ]
    },
    {
     "name": "stdout",
     "output_type": "stream",
     "text": [
      "Epoch [16/20] Completed, Learning Rate: 0.000500\n"
     ]
    },
    {
     "name": "stderr",
     "output_type": "stream",
     "text": [
      "Epoch 17/20:  64%|██████▍   | 1005/1563 [00:36<00:21, 26.53it/s]"
     ]
    },
    {
     "name": "stdout",
     "output_type": "stream",
     "text": [
      "Epoch [17/20], Batch [1000], Q: 0.0560, Loss: 5.8535\n"
     ]
    },
    {
     "name": "stderr",
     "output_type": "stream",
     "text": [
      "                                                                \r"
     ]
    },
    {
     "name": "stdout",
     "output_type": "stream",
     "text": [
      "Epoch [17/20] Completed, Learning Rate: 0.000500\n"
     ]
    },
    {
     "name": "stderr",
     "output_type": "stream",
     "text": [
      "Epoch 18/20:  64%|██████▍   | 1005/1563 [00:35<00:19, 28.01it/s]"
     ]
    },
    {
     "name": "stdout",
     "output_type": "stream",
     "text": [
      "Epoch [18/20], Batch [1000], Q: 0.0470, Loss: 6.0686\n"
     ]
    },
    {
     "name": "stderr",
     "output_type": "stream",
     "text": [
      "                                                                \r"
     ]
    },
    {
     "name": "stdout",
     "output_type": "stream",
     "text": [
      "Epoch [18/20] Completed, Learning Rate: 0.000500\n"
     ]
    },
    {
     "name": "stderr",
     "output_type": "stream",
     "text": [
      "Epoch 19/20:  64%|██████▍   | 1005/1563 [00:36<00:19, 28.02it/s]"
     ]
    },
    {
     "name": "stdout",
     "output_type": "stream",
     "text": [
      "Epoch [19/20], Batch [1000], Q: 0.0380, Loss: 5.9302\n"
     ]
    },
    {
     "name": "stderr",
     "output_type": "stream",
     "text": [
      "                                                                \r"
     ]
    },
    {
     "name": "stdout",
     "output_type": "stream",
     "text": [
      "Epoch [19/20] Completed, Learning Rate: 0.000500\n"
     ]
    },
    {
     "name": "stderr",
     "output_type": "stream",
     "text": [
      "Epoch 20/20:  64%|██████▍   | 1005/1563 [00:36<00:20, 27.33it/s]"
     ]
    },
    {
     "name": "stdout",
     "output_type": "stream",
     "text": [
      "Epoch [20/20], Batch [1000], Q: 0.0290, Loss: 5.7368\n"
     ]
    },
    {
     "name": "stderr",
     "output_type": "stream",
     "text": [
      "                                                                \r"
     ]
    },
    {
     "name": "stdout",
     "output_type": "stream",
     "text": [
      "Epoch [20/20] Completed, Learning Rate: 0.000250\n",
      "Model saved as ./CompetitionData1/Round1NET11721481719.3856256.pth\n"
     ]
    }
   ],
   "execution_count": 6
  },
  {
   "metadata": {},
   "cell_type": "markdown",
   "source": "",
   "id": "50a2072b32ec628e"
  }
 ],
 "metadata": {
  "kernelspec": {
   "display_name": "Python 3",
   "language": "python",
   "name": "python3"
  },
  "language_info": {
   "codemirror_mode": {
    "name": "ipython",
    "version": 2
   },
   "file_extension": ".py",
   "mimetype": "text/x-python",
   "name": "python",
   "nbconvert_exporter": "python",
   "pygments_lexer": "ipython2",
   "version": "2.7.6"
  }
 },
 "nbformat": 4,
 "nbformat_minor": 5
}
