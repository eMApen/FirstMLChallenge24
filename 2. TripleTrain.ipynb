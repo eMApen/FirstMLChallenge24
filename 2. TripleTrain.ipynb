{
 "cells": [
  {
   "metadata": {},
   "cell_type": "markdown",
   "source": [
    "# Triplet Train\n",
    "\n",
    "使用ipynb笔记本来对python代码进行逐步调试处理/训练\n",
    "\n",
    "首先，读取数据。"
   ],
   "id": "f2e3ec2bb9768900"
  },
  {
   "metadata": {
    "ExecuteTime": {
     "end_time": "2024-07-19T14:26:21.735674Z",
     "start_time": "2024-07-19T14:26:17.711625Z"
    }
   },
   "cell_type": "code",
   "source": [
    "import logging\n",
    "import torch\n",
    "import numpy as np\n",
    "import tritrain\n",
    "import dataset\n",
    "import torch.optim as optim\n",
    "\n",
    "from dissimilarity import calculate_cs_dissimilarity_matrix\n",
    "from dataset import read_all_of_huaweicup,read_npy_of_file,npy_file_name_converter\n",
    "\n",
    "from geodesic import construct_knn_graph,compute_shortest_paths_dijkstra,compute_shortest_paths_dijkstra_cugraph\n",
    "\n",
    "# 尝试导入 cugraph 和 cudf，如果失败则使用 networkx\n",
    "try:\n",
    "    import cudf\n",
    "    import cugraph\n",
    "    GPU_AVAILABLE = True\n",
    "except ImportError:\n",
    "    GPU_AVAILABLE = False"
   ],
   "id": "a14c351146d28c39",
   "outputs": [],
   "execution_count": 1
  },
  {
   "metadata": {},
   "cell_type": "markdown",
   "source": [
    "## 2. 数据读入及预处理\n",
    "使用 huawei 杯官方给的示例代码，导入数据。\n",
    "\n",
    "准备数据集，首先定义有关函数。\n",
    "\n",
    "需要注意，我们的数据集每一个对应着不同的扇区，这里先导一个，每个文件导出的时候也对应不同扇区，训练三个模型。"
   ],
   "id": "3e4af91da0127482"
  },
  {
   "metadata": {
    "ExecuteTime": {
     "end_time": "2024-07-19T14:26:27.179303Z",
     "start_time": "2024-07-19T14:26:21.737159Z"
    }
   },
   "cell_type": "code",
   "source": [
    "print(\"<<< Welcome to 2024 Wireless Algorithm Contest! >>>\\n\")\n",
    "device = torch.device(\"cuda\" if torch.cuda.is_available() else \"cpu\")\n",
    "Round_idx = 1\n",
    "File_idx = 1\n",
    "bs_pos, tol_samp_num, anch_samp_num, port_num, ant_num, sc_num, anch_pos, H, d_geo = read_all_of_huaweicup(Round_idx,File_idx)\n",
    "\n",
    "# 初始化日志记录\n",
    "logging.basicConfig(level=logging.INFO, format='%(asctime)s - %(levelname)s - %(message)s')\n",
    "logger = logging.getLogger()\n"
   ],
   "id": "ee57142224d9cddd",
   "outputs": [
    {
     "name": "stdout",
     "output_type": "stream",
     "text": [
      "<<< Welcome to 2024 Wireless Algorithm Contest! >>>\n",
      "\n",
      "Processing Round 1 Case 1\n",
      "Loading configuration data file\n",
      "Loading input position file\n",
      "Loading input CSI data of Case 1\n",
      "Loading Channel CSI succeed\n",
      "Loading GEO data succeed\n",
      "[[   0.         2339.73608398 2482.65429688 ... 2290.90087891\n",
      "  3095.56591797 1301.00170898]\n",
      " [2339.73608398    0.         1570.17565918 ... 1972.58605957\n",
      "  1890.33178711 2245.20751953]\n",
      " [2482.65429688 1570.17565918    0.         ... 1390.14709473\n",
      "  2452.04980469 2113.81030273]\n",
      " [2267.93457031  932.56329346 1780.73571777 ... 2248.97143555\n",
      "  1986.77770996 2143.52075195]\n",
      " [3154.51660156 2009.21484375 2895.19995117 ... 2991.2109375\n",
      "  1568.25439453 3070.37939453]]\n",
      "(20000, 20000)\n"
     ]
    }
   ],
   "execution_count": 2
  },
  {
   "metadata": {},
   "cell_type": "markdown",
   "source": [
    "## 3.网络训练\n",
    "\n",
    "Triplet Neural Networks\n",
    "\n",
    "![Triplet Neural Networks](/home/xmax/Desktop/huaweicup/pic/img.png)\n",
    "\n",
    "### 3.1 Triplet Selection\n",
    "\n",
    "输入为Dgeo矩阵，为两个采样点之间的接地线距离，输出为 f(i) , f(j) , f(k) ，其中 i 为2000个锚点， j 为反例，距离 i 很远的例子， k 为正例距离 i 很近的例子。\n",
    "有一个参数Q，用来衡量近的点有多近，远的点有多远，是一个可调参数。\n",
    "论文中，Q=0.02-0.2，此处为可调参数。\n",
    "\n",
    "### 3.2 Embedded 网络\n",
    "\n",
    "\n",
    "### 3.3 Triplet Loss\n"
   ],
   "id": "6958472aae6e108b"
  },
  {
   "metadata": {
    "ExecuteTime": {
     "end_time": "2024-07-19T14:46:18.811916Z",
     "start_time": "2024-07-19T14:26:27.181008Z"
    }
   },
   "cell_type": "code",
   "source": [
    "# 创建模型\n",
    "embed_net = tritrain.TripletNet().to(device)\n",
    "\n",
    "# 初始化损失函数，给入参数 margin\n",
    "margin = 1.0\n",
    "criterion = tritrain.TripletLoss(margin).to(device)\n",
    "\n",
    "H_real = H.real\n",
    "H_imag = H.imag\n",
    "H_combined = np.stack((H_real, H_imag), axis=2)\n",
    "H_combined = H_combined.reshape(tol_samp_num, 4, ant_num, sc_num)\n",
    "\n",
    "optimizer = optim.Adam(embed_net.parameters(), lr=0.001)\n",
    "scheduler = optim.lr_scheduler.StepLR(optimizer, step_size=5, gamma=0.5)\n",
    "\n",
    "# 训练网络\n",
    "tritrain.train_triplet_network(embed_net, criterion, optimizer, scheduler , H_combined, d_geo, init_q=0.1)\n",
    "\n",
    "# 保存网络实例\n",
    "torch_net_file = dataset.tensor_file_name_converter(1,1)\n",
    "torch.save(embed_net.state_dict(), torch_net_file)\n",
    "print(\"Model saved as \"+ torch_net_file)\n"
   ],
   "id": "f858858d634e4879",
   "outputs": [
    {
     "name": "stdout",
     "output_type": "stream",
     "text": [
      "使用cuda进行计算\n"
     ]
    },
    {
     "name": "stderr",
     "output_type": "stream",
     "text": [
      "Epoch 1/20:  16%|█▋        | 103/625 [00:07<00:32, 15.89it/s]"
     ]
    },
    {
     "name": "stdout",
     "output_type": "stream",
     "text": [
      "Epoch [1/20], Batch [100], Q: 0.3000, Loss: 18.1153\n"
     ]
    },
    {
     "name": "stderr",
     "output_type": "stream",
     "text": [
      "Epoch 1/20:  32%|███▏      | 203/625 [00:13<00:26, 15.98it/s]"
     ]
    },
    {
     "name": "stdout",
     "output_type": "stream",
     "text": [
      "Epoch [1/20], Batch [200], Q: 0.3000, Loss: 0.7521\n"
     ]
    },
    {
     "name": "stderr",
     "output_type": "stream",
     "text": [
      "Epoch 1/20:  48%|████▊     | 303/625 [00:19<00:20, 15.99it/s]"
     ]
    },
    {
     "name": "stdout",
     "output_type": "stream",
     "text": [
      "Epoch [1/20], Batch [300], Q: 0.3000, Loss: 0.6855\n"
     ]
    },
    {
     "name": "stderr",
     "output_type": "stream",
     "text": [
      "Epoch 1/20:  64%|██████▍   | 403/625 [00:25<00:13, 16.65it/s]"
     ]
    },
    {
     "name": "stdout",
     "output_type": "stream",
     "text": [
      "Epoch [1/20], Batch [400], Q: 0.3000, Loss: 0.6173\n"
     ]
    },
    {
     "name": "stderr",
     "output_type": "stream",
     "text": [
      "Epoch 1/20:  80%|████████  | 503/625 [00:32<00:08, 13.66it/s]"
     ]
    },
    {
     "name": "stdout",
     "output_type": "stream",
     "text": [
      "Epoch [1/20], Batch [500], Q: 0.3000, Loss: 0.6153\n"
     ]
    },
    {
     "name": "stderr",
     "output_type": "stream",
     "text": [
      "Epoch 1/20:  96%|█████████▋| 602/625 [00:40<00:01, 14.05it/s]"
     ]
    },
    {
     "name": "stdout",
     "output_type": "stream",
     "text": [
      "Epoch [1/20], Batch [600], Q: 0.3000, Loss: 0.5715\n"
     ]
    },
    {
     "name": "stderr",
     "output_type": "stream",
     "text": [
      "                                                             \r"
     ]
    },
    {
     "name": "stdout",
     "output_type": "stream",
     "text": [
      "Epoch [1/20] Completed, Learning Rate: 0.001000\n"
     ]
    },
    {
     "name": "stderr",
     "output_type": "stream",
     "text": [
      "Epoch 2/20:  20%|██        | 101/500 [00:08<00:30, 13.06it/s]"
     ]
    },
    {
     "name": "stdout",
     "output_type": "stream",
     "text": [
      "Epoch [2/20], Batch [100], Q: 0.2860, Loss: 0.5441\n"
     ]
    },
    {
     "name": "stderr",
     "output_type": "stream",
     "text": [
      "Epoch 2/20:  40%|████      | 202/500 [00:16<00:24, 12.22it/s]"
     ]
    },
    {
     "name": "stdout",
     "output_type": "stream",
     "text": [
      "Epoch [2/20], Batch [200], Q: 0.2860, Loss: 0.5313\n"
     ]
    },
    {
     "name": "stderr",
     "output_type": "stream",
     "text": [
      "Epoch 2/20:  60%|██████    | 301/500 [00:24<00:14, 13.44it/s]"
     ]
    },
    {
     "name": "stdout",
     "output_type": "stream",
     "text": [
      "Epoch [2/20], Batch [300], Q: 0.2860, Loss: 0.4968\n"
     ]
    },
    {
     "name": "stderr",
     "output_type": "stream",
     "text": [
      "Epoch 2/20:  80%|████████  | 401/500 [00:32<00:10,  9.70it/s]"
     ]
    },
    {
     "name": "stdout",
     "output_type": "stream",
     "text": [
      "Epoch [2/20], Batch [400], Q: 0.2860, Loss: 0.4546\n"
     ]
    },
    {
     "name": "stderr",
     "output_type": "stream",
     "text": [
      "                                                             \r"
     ]
    },
    {
     "name": "stdout",
     "output_type": "stream",
     "text": [
      "Epoch [2/20], Batch [500], Q: 0.2860, Loss: 0.4596\n",
      "Epoch [2/20] Completed, Learning Rate: 0.001000\n"
     ]
    },
    {
     "name": "stderr",
     "output_type": "stream",
     "text": [
      "Epoch 3/20:  24%|██▍       | 102/417 [00:10<00:26, 11.83it/s]"
     ]
    },
    {
     "name": "stdout",
     "output_type": "stream",
     "text": [
      "Epoch [3/20], Batch [100], Q: 0.2720, Loss: 0.4189\n"
     ]
    },
    {
     "name": "stderr",
     "output_type": "stream",
     "text": [
      "Epoch 3/20:  48%|████▊     | 202/417 [00:19<00:21, 10.20it/s]"
     ]
    },
    {
     "name": "stdout",
     "output_type": "stream",
     "text": [
      "Epoch [3/20], Batch [200], Q: 0.2720, Loss: 0.3916\n"
     ]
    },
    {
     "name": "stderr",
     "output_type": "stream",
     "text": [
      "Epoch 3/20:  72%|███████▏  | 302/417 [00:28<00:09, 11.69it/s]"
     ]
    },
    {
     "name": "stdout",
     "output_type": "stream",
     "text": [
      "Epoch [3/20], Batch [300], Q: 0.2720, Loss: 0.3646\n"
     ]
    },
    {
     "name": "stderr",
     "output_type": "stream",
     "text": [
      "Epoch 3/20:  96%|█████████▌| 401/417 [00:37<00:01, 10.67it/s]"
     ]
    },
    {
     "name": "stdout",
     "output_type": "stream",
     "text": [
      "Epoch [3/20], Batch [400], Q: 0.2720, Loss: 0.3789\n"
     ]
    },
    {
     "name": "stderr",
     "output_type": "stream",
     "text": [
      "                                                             \r"
     ]
    },
    {
     "name": "stdout",
     "output_type": "stream",
     "text": [
      "Epoch [3/20] Completed, Learning Rate: 0.001000\n"
     ]
    },
    {
     "name": "stderr",
     "output_type": "stream",
     "text": [
      "Epoch 4/20:  28%|██▊       | 102/358 [00:10<00:24, 10.37it/s]"
     ]
    },
    {
     "name": "stdout",
     "output_type": "stream",
     "text": [
      "Epoch [4/20], Batch [100], Q: 0.2580, Loss: 0.3320\n"
     ]
    },
    {
     "name": "stderr",
     "output_type": "stream",
     "text": [
      "Epoch 4/20:  56%|█████▌    | 201/358 [00:20<00:19,  8.07it/s]"
     ]
    },
    {
     "name": "stdout",
     "output_type": "stream",
     "text": [
      "Epoch [4/20], Batch [200], Q: 0.2580, Loss: 0.3438\n"
     ]
    },
    {
     "name": "stderr",
     "output_type": "stream",
     "text": [
      "Epoch 4/20:  84%|████████▍ | 300/358 [00:30<00:05,  9.96it/s]"
     ]
    },
    {
     "name": "stdout",
     "output_type": "stream",
     "text": [
      "Epoch [4/20], Batch [300], Q: 0.2580, Loss: 0.3110\n"
     ]
    },
    {
     "name": "stderr",
     "output_type": "stream",
     "text": [
      "                                                             \r"
     ]
    },
    {
     "name": "stdout",
     "output_type": "stream",
     "text": [
      "Epoch [4/20] Completed, Learning Rate: 0.001000\n"
     ]
    },
    {
     "name": "stderr",
     "output_type": "stream",
     "text": [
      "Epoch 5/20:  32%|███▏      | 100/313 [00:11<00:22,  9.59it/s]"
     ]
    },
    {
     "name": "stdout",
     "output_type": "stream",
     "text": [
      "Epoch [5/20], Batch [100], Q: 0.2440, Loss: 0.2882\n"
     ]
    },
    {
     "name": "stderr",
     "output_type": "stream",
     "text": [
      "Epoch 5/20:  64%|██████▍   | 201/313 [00:24<00:12,  9.29it/s]"
     ]
    },
    {
     "name": "stdout",
     "output_type": "stream",
     "text": [
      "Epoch [5/20], Batch [200], Q: 0.2440, Loss: 0.2781\n"
     ]
    },
    {
     "name": "stderr",
     "output_type": "stream",
     "text": [
      "Epoch 5/20:  96%|█████████▋| 302/313 [00:36<00:01,  9.48it/s]"
     ]
    },
    {
     "name": "stdout",
     "output_type": "stream",
     "text": [
      "Epoch [5/20], Batch [300], Q: 0.2440, Loss: 0.2734\n"
     ]
    },
    {
     "name": "stderr",
     "output_type": "stream",
     "text": [
      "                                                             \r"
     ]
    },
    {
     "name": "stdout",
     "output_type": "stream",
     "text": [
      "Epoch [5/20] Completed, Learning Rate: 0.001000\n"
     ]
    },
    {
     "name": "stderr",
     "output_type": "stream",
     "text": [
      "Epoch 6/20:  36%|███▋      | 101/278 [00:11<00:18,  9.75it/s]"
     ]
    },
    {
     "name": "stdout",
     "output_type": "stream",
     "text": [
      "Epoch [6/20], Batch [100], Q: 0.2300, Loss: 0.2644\n"
     ]
    },
    {
     "name": "stderr",
     "output_type": "stream",
     "text": [
      "Epoch 6/20:  72%|███████▏  | 201/278 [00:23<00:09,  8.22it/s]"
     ]
    },
    {
     "name": "stdout",
     "output_type": "stream",
     "text": [
      "Epoch [6/20], Batch [200], Q: 0.2300, Loss: 0.2516\n"
     ]
    },
    {
     "name": "stderr",
     "output_type": "stream",
     "text": [
      "                                                             \r"
     ]
    },
    {
     "name": "stdout",
     "output_type": "stream",
     "text": [
      "Epoch [6/20] Completed, Learning Rate: 0.001000\n"
     ]
    },
    {
     "name": "stderr",
     "output_type": "stream",
     "text": [
      "Epoch 7/20:  40%|████      | 101/250 [00:13<00:17,  8.30it/s]"
     ]
    },
    {
     "name": "stdout",
     "output_type": "stream",
     "text": [
      "Epoch [7/20], Batch [100], Q: 0.2160, Loss: 0.2426\n"
     ]
    },
    {
     "name": "stderr",
     "output_type": "stream",
     "text": [
      "Epoch 7/20:  80%|████████  | 201/250 [00:27<00:12,  4.00it/s]"
     ]
    },
    {
     "name": "stdout",
     "output_type": "stream",
     "text": [
      "Epoch [7/20], Batch [200], Q: 0.2160, Loss: 0.2391\n"
     ]
    },
    {
     "name": "stderr",
     "output_type": "stream",
     "text": [
      "                                                             \r"
     ]
    },
    {
     "name": "stdout",
     "output_type": "stream",
     "text": [
      "Epoch [7/20] Completed, Learning Rate: 0.001000\n"
     ]
    },
    {
     "name": "stderr",
     "output_type": "stream",
     "text": [
      "Epoch 8/20:  44%|████▍     | 101/228 [00:20<00:25,  5.06it/s]"
     ]
    },
    {
     "name": "stdout",
     "output_type": "stream",
     "text": [
      "Epoch [8/20], Batch [100], Q: 0.2020, Loss: 0.2237\n"
     ]
    },
    {
     "name": "stderr",
     "output_type": "stream",
     "text": [
      "Epoch 8/20:  88%|████████▊ | 200/228 [00:42<00:05,  4.91it/s]"
     ]
    },
    {
     "name": "stdout",
     "output_type": "stream",
     "text": [
      "Epoch [8/20], Batch [200], Q: 0.2020, Loss: 0.2138\n"
     ]
    },
    {
     "name": "stderr",
     "output_type": "stream",
     "text": [
      "                                                             \r"
     ]
    },
    {
     "name": "stdout",
     "output_type": "stream",
     "text": [
      "Epoch [8/20] Completed, Learning Rate: 0.001000\n"
     ]
    },
    {
     "name": "stderr",
     "output_type": "stream",
     "text": [
      "Epoch 9/20:  48%|████▊     | 100/209 [00:21<00:22,  4.79it/s]"
     ]
    },
    {
     "name": "stdout",
     "output_type": "stream",
     "text": [
      "Epoch [9/20], Batch [100], Q: 0.1880, Loss: 0.1885\n"
     ]
    },
    {
     "name": "stderr",
     "output_type": "stream",
     "text": [
      "Epoch 9/20:  96%|█████████▌| 200/209 [00:44<00:01,  4.86it/s]"
     ]
    },
    {
     "name": "stdout",
     "output_type": "stream",
     "text": [
      "Epoch [9/20], Batch [200], Q: 0.1880, Loss: 0.1923\n"
     ]
    },
    {
     "name": "stderr",
     "output_type": "stream",
     "text": [
      "                                                             \r"
     ]
    },
    {
     "name": "stdout",
     "output_type": "stream",
     "text": [
      "Epoch [9/20] Completed, Learning Rate: 0.001000\n"
     ]
    },
    {
     "name": "stderr",
     "output_type": "stream",
     "text": [
      "Epoch 10/20:  52%|█████▏    | 100/193 [00:25<00:28,  3.27it/s]"
     ]
    },
    {
     "name": "stdout",
     "output_type": "stream",
     "text": [
      "Epoch [10/20], Batch [100], Q: 0.1740, Loss: 0.1730\n"
     ]
    },
    {
     "name": "stderr",
     "output_type": "stream",
     "text": [
      "                                                              \r"
     ]
    },
    {
     "name": "stdout",
     "output_type": "stream",
     "text": [
      "Epoch [10/20] Completed, Learning Rate: 0.000100\n"
     ]
    },
    {
     "name": "stderr",
     "output_type": "stream",
     "text": [
      "Epoch 11/20:  56%|█████▌    | 100/179 [00:29<00:21,  3.66it/s]"
     ]
    },
    {
     "name": "stdout",
     "output_type": "stream",
     "text": [
      "Epoch [11/20], Batch [100], Q: 0.1600, Loss: 0.1452\n"
     ]
    },
    {
     "name": "stderr",
     "output_type": "stream",
     "text": [
      "                                                              \r"
     ]
    },
    {
     "name": "stdout",
     "output_type": "stream",
     "text": [
      "Epoch [11/20] Completed, Learning Rate: 0.000100\n"
     ]
    },
    {
     "name": "stderr",
     "output_type": "stream",
     "text": [
      "Epoch 12/20:  60%|█████▉    | 100/167 [00:27<00:14,  4.56it/s]"
     ]
    },
    {
     "name": "stdout",
     "output_type": "stream",
     "text": [
      "Epoch [12/20], Batch [100], Q: 0.1460, Loss: 0.1251\n"
     ]
    },
    {
     "name": "stderr",
     "output_type": "stream",
     "text": [
      "                                                              \r"
     ]
    },
    {
     "name": "stdout",
     "output_type": "stream",
     "text": [
      "Epoch [12/20] Completed, Learning Rate: 0.000100\n"
     ]
    },
    {
     "name": "stderr",
     "output_type": "stream",
     "text": [
      "Epoch 13/20:  64%|██████▎   | 100/157 [00:31<00:17,  3.23it/s]"
     ]
    },
    {
     "name": "stdout",
     "output_type": "stream",
     "text": [
      "Epoch [13/20], Batch [100], Q: 0.1320, Loss: 0.1062\n"
     ]
    },
    {
     "name": "stderr",
     "output_type": "stream",
     "text": [
      "                                                              \r"
     ]
    },
    {
     "name": "stdout",
     "output_type": "stream",
     "text": [
      "Epoch [13/20] Completed, Learning Rate: 0.000100\n"
     ]
    },
    {
     "name": "stderr",
     "output_type": "stream",
     "text": [
      "Epoch 14/20:  64%|██████▎   | 100/157 [00:33<00:17,  3.33it/s]"
     ]
    },
    {
     "name": "stdout",
     "output_type": "stream",
     "text": [
      "Epoch [14/20], Batch [100], Q: 0.1180, Loss: 0.1003\n"
     ]
    },
    {
     "name": "stderr",
     "output_type": "stream",
     "text": [
      "                                                              \r"
     ]
    },
    {
     "name": "stdout",
     "output_type": "stream",
     "text": [
      "Epoch [14/20] Completed, Learning Rate: 0.000100\n"
     ]
    },
    {
     "name": "stderr",
     "output_type": "stream",
     "text": [
      "Epoch 15/20:  64%|██████▎   | 100/157 [00:30<00:17,  3.32it/s]"
     ]
    },
    {
     "name": "stdout",
     "output_type": "stream",
     "text": [
      "Epoch [15/20], Batch [100], Q: 0.1040, Loss: 0.0893\n"
     ]
    },
    {
     "name": "stderr",
     "output_type": "stream",
     "text": [
      "                                                              \r"
     ]
    },
    {
     "name": "stdout",
     "output_type": "stream",
     "text": [
      "Epoch [15/20] Completed, Learning Rate: 0.000100\n"
     ]
    },
    {
     "name": "stderr",
     "output_type": "stream",
     "text": [
      "Epoch 16/20:  64%|██████▎   | 100/157 [00:33<00:19,  2.93it/s]"
     ]
    },
    {
     "name": "stdout",
     "output_type": "stream",
     "text": [
      "Epoch [16/20], Batch [100], Q: 0.0900, Loss: 0.0864\n"
     ]
    },
    {
     "name": "stderr",
     "output_type": "stream",
     "text": [
      "                                                              \r"
     ]
    },
    {
     "name": "stdout",
     "output_type": "stream",
     "text": [
      "Epoch [16/20] Completed, Learning Rate: 0.000100\n"
     ]
    },
    {
     "name": "stderr",
     "output_type": "stream",
     "text": [
      "Epoch 17/20:  64%|██████▎   | 100/157 [00:31<00:17,  3.33it/s]"
     ]
    },
    {
     "name": "stdout",
     "output_type": "stream",
     "text": [
      "Epoch [17/20], Batch [100], Q: 0.0760, Loss: 0.0825\n"
     ]
    },
    {
     "name": "stderr",
     "output_type": "stream",
     "text": [
      "                                                              \r"
     ]
    },
    {
     "name": "stdout",
     "output_type": "stream",
     "text": [
      "Epoch [17/20] Completed, Learning Rate: 0.000100\n"
     ]
    },
    {
     "name": "stderr",
     "output_type": "stream",
     "text": [
      "Epoch 18/20:  64%|██████▎   | 100/157 [00:30<00:17,  3.34it/s]"
     ]
    },
    {
     "name": "stdout",
     "output_type": "stream",
     "text": [
      "Epoch [18/20], Batch [100], Q: 0.0620, Loss: 0.0783\n"
     ]
    },
    {
     "name": "stderr",
     "output_type": "stream",
     "text": [
      "                                                              \r"
     ]
    },
    {
     "name": "stdout",
     "output_type": "stream",
     "text": [
      "Epoch [18/20] Completed, Learning Rate: 0.000100\n"
     ]
    },
    {
     "name": "stderr",
     "output_type": "stream",
     "text": [
      "Epoch 19/20:  64%|██████▎   | 100/157 [00:32<00:18,  3.12it/s]"
     ]
    },
    {
     "name": "stdout",
     "output_type": "stream",
     "text": [
      "Epoch [19/20], Batch [100], Q: 0.0480, Loss: 0.0778\n"
     ]
    },
    {
     "name": "stderr",
     "output_type": "stream",
     "text": [
      "                                                              \r"
     ]
    },
    {
     "name": "stdout",
     "output_type": "stream",
     "text": [
      "Epoch [19/20] Completed, Learning Rate: 0.000100\n"
     ]
    },
    {
     "name": "stderr",
     "output_type": "stream",
     "text": [
      "Epoch 20/20:  64%|██████▎   | 100/157 [00:32<00:17,  3.35it/s]"
     ]
    },
    {
     "name": "stdout",
     "output_type": "stream",
     "text": [
      "Epoch [20/20], Batch [100], Q: 0.0340, Loss: 0.0758\n"
     ]
    },
    {
     "name": "stderr",
     "output_type": "stream",
     "text": [
      "                                                              \r"
     ]
    },
    {
     "name": "stdout",
     "output_type": "stream",
     "text": [
      "Epoch [20/20] Completed, Learning Rate: 0.000010\n",
      "Model saved as ./CompetitionData1/Round1NET11721400377.7985215.pth\n"
     ]
    }
   ],
   "execution_count": 3
  }
 ],
 "metadata": {
  "kernelspec": {
   "display_name": "Python 3",
   "language": "python",
   "name": "python3"
  },
  "language_info": {
   "codemirror_mode": {
    "name": "ipython",
    "version": 2
   },
   "file_extension": ".py",
   "mimetype": "text/x-python",
   "name": "python",
   "nbconvert_exporter": "python",
   "pygments_lexer": "ipython2",
   "version": "2.7.6"
  }
 },
 "nbformat": 4,
 "nbformat_minor": 5
}
